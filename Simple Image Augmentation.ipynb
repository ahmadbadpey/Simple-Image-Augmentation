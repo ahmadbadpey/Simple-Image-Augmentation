{
 "cells": [
  {
   "cell_type": "markdown",
   "id": "f0dca22a",
   "metadata": {},
   "source": [
    "## Importing Required Libraries"
   ]
  },
  {
   "cell_type": "code",
   "execution_count": 39,
   "id": "968e158b",
   "metadata": {},
   "outputs": [],
   "source": [
    "from keras.preprocessing.image import ImageDataGenerator\n",
    "import cv2 as cv\n",
    "import numpy as np"
   ]
  },
  {
   "cell_type": "markdown",
   "id": "4f0c909c",
   "metadata": {},
   "source": [
    "## Initializing"
   ]
  },
  {
   "cell_type": "code",
   "execution_count": 40,
   "id": "8e1a2236",
   "metadata": {},
   "outputs": [],
   "source": [
    "augment = ImageDataGenerator(\n",
    "                rotation_range=40,\n",
    "                width_shift_range=0.2,\n",
    "                zoom_range=0.3,\n",
    "                horizontal_flip=True,\n",
    "                shear_range=0.5,\n",
    "                fill_mode='nearest')"
   ]
  },
  {
   "cell_type": "markdown",
   "id": "9bef15a5",
   "metadata": {},
   "source": [
    "## Image Preprocessing"
   ]
  },
  {
   "cell_type": "code",
   "execution_count": 41,
   "id": "27da30d8",
   "metadata": {},
   "outputs": [
    {
     "data": {
      "text/plain": [
       "array([[[[125,  62, 105],\n",
       "         [129,  64, 107],\n",
       "         [130,  65, 108],\n",
       "         ...,\n",
       "         [ 82,  38,  65],\n",
       "         [ 82,  38,  65],\n",
       "         [ 82,  38,  65]],\n",
       "\n",
       "        [[129,  64, 107],\n",
       "         [128,  65, 108],\n",
       "         [131,  66, 109],\n",
       "         ...,\n",
       "         [ 83,  37,  65],\n",
       "         [ 82,  38,  65],\n",
       "         [ 81,  37,  64]],\n",
       "\n",
       "        [[130,  65, 108],\n",
       "         [131,  64, 108],\n",
       "         [131,  66, 109],\n",
       "         ...,\n",
       "         [ 83,  37,  65],\n",
       "         [ 83,  37,  65],\n",
       "         [ 83,  37,  65]],\n",
       "\n",
       "        ...,\n",
       "\n",
       "        [[225, 210, 217],\n",
       "         [228, 213, 220],\n",
       "         [229, 214, 219],\n",
       "         ...,\n",
       "         [216, 215, 221],\n",
       "         [217, 216, 221],\n",
       "         [215, 214, 219]],\n",
       "\n",
       "        [[225, 209, 219],\n",
       "         [226, 211, 218],\n",
       "         [225, 212, 219],\n",
       "         ...,\n",
       "         [217, 216, 221],\n",
       "         [217, 216, 221],\n",
       "         [216, 215, 220]],\n",
       "\n",
       "        [[226, 209, 219],\n",
       "         [226, 210, 220],\n",
       "         [226, 213, 220],\n",
       "         ...,\n",
       "         [217, 215, 220],\n",
       "         [216, 214, 219],\n",
       "         [214, 212, 217]]]], dtype=uint8)"
      ]
     },
     "execution_count": 41,
     "metadata": {},
     "output_type": "execute_result"
    }
   ],
   "source": [
    "img = cv.imread('raspberry.jpg')\n",
    "img = cv.cvtColor(img,cv.COLOR_BGR2RGB)\n",
    "img = img.reshape((1,) + img.shape)  # this is a Numpy array with shape (1, 3, 150, 150)\n",
    "\n",
    "img"
   ]
  },
  {
   "cell_type": "markdown",
   "id": "eea3e9f1",
   "metadata": {},
   "source": [
    "## Generating Images "
   ]
  },
  {
   "cell_type": "code",
   "execution_count": 42,
   "id": "7e93981c",
   "metadata": {},
   "outputs": [],
   "source": [
    "counter = 0\n",
    "\n",
    "for image in augment.flow(img , batch_size=1 ,save_prefix='Bar',save_to_dir='result',save_format='jpg'):\n",
    "    \n",
    "    counter+=1\n",
    "    \n",
    "    if counter==10:\n",
    "        break\n"
   ]
  }
 ],
 "metadata": {
  "kernelspec": {
   "display_name": "Python 3 (ipykernel)",
   "language": "python",
   "name": "python3"
  },
  "language_info": {
   "codemirror_mode": {
    "name": "ipython",
    "version": 3
   },
   "file_extension": ".py",
   "mimetype": "text/x-python",
   "name": "python",
   "nbconvert_exporter": "python",
   "pygments_lexer": "ipython3",
   "version": "3.10.7"
  }
 },
 "nbformat": 4,
 "nbformat_minor": 5
}
